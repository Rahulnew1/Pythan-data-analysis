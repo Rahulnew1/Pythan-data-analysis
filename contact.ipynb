{
 "cells": [
  {
   "cell_type": "code",
   "execution_count": 6,
   "metadata": {},
   "outputs": [
    {
     "name": "stdout",
     "output_type": "stream",
     "text": [
      "search a contact\n",
      "police:100\n",
      "search a contact\n",
      "closing donw...\n"
     ]
    }
   ],
   "source": [
    "contact={\n",
    "    'police':'100',\n",
    "    'ambulamce':'102'\n",
    "}\n",
    "while True:\n",
    "    print('search a contact')\n",
    "    q= input('>>>')\n",
    "    if len(q)==0:\n",
    "        print('closing donw...')\n",
    "        break\n",
    "    if q in contact:\n",
    "        print(f'{q}:{contact[q]}')\n",
    "    else:\n",
    "        print(f'{q} not found')"
   ]
  },
  {
   "cell_type": "code",
   "execution_count": null,
   "metadata": {},
   "outputs": [],
   "source": []
  },
  {
   "cell_type": "code",
   "execution_count": null,
   "metadata": {},
   "outputs": [],
   "source": []
  }
 ],
 "metadata": {
  "kernelspec": {
   "display_name": "base",
   "language": "python",
   "name": "python3"
  },
  "language_info": {
   "codemirror_mode": {
    "name": "ipython",
    "version": 3
   },
   "file_extension": ".py",
   "mimetype": "text/x-python",
   "name": "python",
   "nbconvert_exporter": "python",
   "pygments_lexer": "ipython3",
   "version": "3.10.9"
  }
 },
 "nbformat": 4,
 "nbformat_minor": 2
}
