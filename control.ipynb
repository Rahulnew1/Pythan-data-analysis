{
 "cells": [
  {
   "cell_type": "code",
   "execution_count": 1,
   "metadata": {},
   "outputs": [],
   "source": [
    "movies = [\"ironmna 1\",\n",
    "          \"ironman 2\",\n",
    "          \"ironman 3\",\n",
    "          \"endgame\",\n",
    "          \"antman\",\n",
    "          \"hulk\",\n",
    "          \"gardian of the galaxy\",\n",
    "          \"gardian of the galaxy 2\",\n",
    "          \"thor\",\n",
    "          \"thor ragnrok\",\n",
    "          \"the flash\",\n",
    "          \"Man of steel\"\n",
    "          \"The dark knight\"]"
   ]
  },
  {
   "cell_type": "code",
   "execution_count": 2,
   "metadata": {},
   "outputs": [
    {
     "name": "stdout",
     "output_type": "stream",
     "text": [
      "ironmna 1\n",
      "ironman 2\n",
      "ironman 3\n",
      "endgame\n",
      "antman\n",
      "hulk\n",
      "gardiun of the galaxy\n",
      "gardiun of the galaxy 2\n",
      "thor\n",
      "thor ragnrok\n",
      "the flash\n",
      "Man of steelThe dark knight\n"
     ]
    }
   ],
   "source": [
    "for i in movies:\n",
    "    print(i)"
   ]
  },
  {
   "cell_type": "markdown",
   "metadata": {},
   "source": [
    "for item in iterable:\n",
    "    statement 1\n",
    "    ...\n",
    "    statement n"
   ]
  },
  {
   "cell_type": "code",
   "execution_count": 3,
   "metadata": {},
   "outputs": [
    {
     "name": "stdout",
     "output_type": "stream",
     "text": [
      "12\n",
      "45\n",
      "56\n",
      "122\n"
     ]
    }
   ],
   "source": [
    "for i in [12,45,56,122]:\n",
    "    print(i)"
   ]
  },
  {
   "cell_type": "code",
   "execution_count": 6,
   "metadata": {},
   "outputs": [
    {
     "data": {
      "text/plain": [
       "12"
      ]
     },
     "execution_count": 6,
     "metadata": {},
     "output_type": "execute_result"
    }
   ],
   "source": [
    "len(movies)"
   ]
  },
  {
   "cell_type": "code",
   "execution_count": 7,
   "metadata": {},
   "outputs": [
    {
     "name": "stdout",
     "output_type": "stream",
     "text": [
      "10\n",
      "9\n",
      "8\n",
      "7\n",
      "6\n",
      "5\n",
      "4\n",
      "3\n",
      "2\n",
      "1\n"
     ]
    }
   ],
   "source": [
    "for i in range(10,0,-1):\n",
    "    print(i)"
   ]
  },
  {
   "cell_type": "code",
   "execution_count": 10,
   "metadata": {},
   "outputs": [
    {
     "name": "stdout",
     "output_type": "stream",
     "text": [
      "2\n",
      "4\n",
      "6\n",
      "8\n",
      "10\n",
      "12\n",
      "14\n",
      "16\n",
      "18\n",
      "20\n"
     ]
    }
   ],
   "source": [
    "for i in range (2, 21, 2):\n",
    "    print(i)"
   ]
  },
  {
   "cell_type": "code",
   "execution_count": 15,
   "metadata": {},
   "outputs": [
    {
     "name": "stdout",
     "output_type": "stream",
     "text": [
      "ironmna 1\n",
      "ironman 2\n",
      "ironman 3\n",
      "endgame\n",
      "antman\n",
      "hulk\n",
      "gardiun of the galaxy\n",
      "gardiun of the galaxy 2\n",
      "thor\n",
      "thor ragnrok\n",
      "the flash\n",
      "Man of steelThe dark knight\n"
     ]
    }
   ],
   "source": [
    "\n",
    "for name in movies:\n",
    "    if 'o'in name or 'the':\n",
    "        print(name)"
   ]
  },
  {
   "cell_type": "code",
   "execution_count": 16,
   "metadata": {},
   "outputs": [
    {
     "name": "stdout",
     "output_type": "stream",
     "text": [
      "17\n"
     ]
    }
   ],
   "source": [
    "x = [3,2,1,5,6]\n",
    "total = 0\n",
    "for i in x:\n",
    "    total+= i\n",
    "print(total)"
   ]
  },
  {
   "cell_type": "code",
   "execution_count": 17,
   "metadata": {},
   "outputs": [
    {
     "data": {
      "text/plain": [
       "17"
      ]
     },
     "execution_count": 17,
     "metadata": {},
     "output_type": "execute_result"
    }
   ],
   "source": [
    "sum(x) #pyhonic way"
   ]
  },
  {
   "cell_type": "code",
   "execution_count": 18,
   "metadata": {},
   "outputs": [
    {
     "name": "stdout",
     "output_type": "stream",
     "text": [
      "3628800\n"
     ]
    }
   ],
   "source": [
    "n = 10\n",
    "fact = 1\n",
    "for i in range(2, n+1):\n",
    "    fact *= i\n",
    "print(fact)"
   ]
  },
  {
   "cell_type": "code",
   "execution_count": 21,
   "metadata": {},
   "outputs": [
    {
     "name": "stdout",
     "output_type": "stream",
     "text": [
      "12789431970371636606966620734791313516604437860464878229575155395257656153529144509770146781023755836666984342522223668276487104935057419157191303316572641730844442916621884079259664744503530060106462229406709913795896382483051752421457376925139375918554742142277084109072075415472744773895909513758702137196402197602987575610953689410300363603347469264966415853466714416517106192691686307844235819017453689676147932595660970929967849662850819218511729785674112672060292399838490165441610219748228446647425232921460703278692195195847697533241956313120785846547163235092917482532359051896586210089077294749582508285049484663787958625020980530131323181204679160348188706036451729960518083706882188447889350237152146357737869092593947690666727221650010603370946666527771527829457588458617616446849399986511076111149473502989094186304825578814910534550257292205131572031477494708772675415889553705144186548105284431918085774927996276689160184310528173544717613694883990736557970092001258571125051431679481241244220771782038166976978235511761290071119920073750737107923959546182699429453914126446571813253916678812348394285504902069307310080000000000000000000000000000000000000000000000000000000000000000000000000000000000000000000000000000000000000000000000000000000000000000\n"
     ]
    }
   ],
   "source": [
    "n = 550\n",
    "fact = 1\n",
    "for i in range(2, n+1):\n",
    "    fact *= i\n",
    "print(fact)"
   ]
  },
  {
   "cell_type": "code",
   "execution_count": 24,
   "metadata": {},
   "outputs": [
    {
     "name": "stdout",
     "output_type": "stream",
     "text": [
      "1\n",
      "2\n",
      "3\n",
      "4\n",
      "5\n",
      "6\n",
      "7\n",
      "8\n",
      "9\n"
     ]
    }
   ],
   "source": [
    "a = 1\n",
    "while a < 10:\n",
    "    print(a)\n",
    "    a += 1"
   ]
  },
  {
   "cell_type": "code",
   "execution_count": 25,
   "metadata": {},
   "outputs": [
    {
     "name": "stdout",
     "output_type": "stream",
     "text": [
      "invalid input\n",
      "very good\n"
     ]
    }
   ],
   "source": [
    "while True:\n",
    "    x = input('Enter a number:')\n",
    "    if x.isnumeric():\n",
    "        print('very good')\n",
    "        break\n",
    "    else:\n",
    "        print('invalid input')"
   ]
  },
  {
   "cell_type": "code",
   "execution_count": null,
   "metadata": {},
   "outputs": [],
   "source": []
  }
 ],
 "metadata": {
  "kernelspec": {
   "display_name": "base",
   "language": "python",
   "name": "python3"
  },
  "language_info": {
   "codemirror_mode": {
    "name": "ipython",
    "version": 3
   },
   "file_extension": ".py",
   "mimetype": "text/x-python",
   "name": "python",
   "nbconvert_exporter": "python",
   "pygments_lexer": "ipython3",
   "version": "3.10.9"
  }
 },
 "nbformat": 4,
 "nbformat_minor": 2
}
