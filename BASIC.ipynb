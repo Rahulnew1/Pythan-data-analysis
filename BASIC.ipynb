{
 "cells": [
  {
   "cell_type": "code",
   "execution_count": 1,
   "metadata": {},
   "outputs": [
    {
     "data": {
      "text/plain": [
       "-90"
      ]
     },
     "execution_count": 1,
     "metadata": {},
     "output_type": "execute_result"
    }
   ],
   "source": [
    "231-321"
   ]
  },
  {
   "cell_type": "code",
   "execution_count": 2,
   "metadata": {},
   "outputs": [
    {
     "data": {
      "text/plain": [
       "3.3333333333333335"
      ]
     },
     "execution_count": 2,
     "metadata": {},
     "output_type": "execute_result"
    }
   ],
   "source": [
    "10/3"
   ]
  },
  {
   "cell_type": "code",
   "execution_count": 3,
   "metadata": {},
   "outputs": [
    {
     "data": {
      "text/plain": [
       "1000"
      ]
     },
     "execution_count": 3,
     "metadata": {},
     "output_type": "execute_result"
    }
   ],
   "source": [
    "10**3"
   ]
  },
  {
   "cell_type": "code",
   "execution_count": 4,
   "metadata": {},
   "outputs": [
    {
     "data": {
      "text/plain": [
       "3"
      ]
     },
     "execution_count": 4,
     "metadata": {},
     "output_type": "execute_result"
    }
   ],
   "source": [
    "10//3"
   ]
  },
  {
   "cell_type": "code",
   "execution_count": 5,
   "metadata": {},
   "outputs": [
    {
     "data": {
      "text/plain": [
       "3"
      ]
     },
     "execution_count": 5,
     "metadata": {},
     "output_type": "execute_result"
    }
   ],
   "source": [
    "10//3 #floor division"
   ]
  },
  {
   "cell_type": "code",
   "execution_count": 6,
   "metadata": {},
   "outputs": [
    {
     "data": {
      "text/plain": [
       "-596.6666666666666"
      ]
     },
     "execution_count": 6,
     "metadata": {},
     "output_type": "execute_result"
    }
   ],
   "source": [
    "10/3-120*5"
   ]
  },
  {
   "cell_type": "code",
   "execution_count": 7,
   "metadata": {},
   "outputs": [],
   "source": [
    "name = \"Rahul\"\n",
    "age = 31\n",
    "can_vote = True"
   ]
  },
  {
   "cell_type": "code",
   "execution_count": 8,
   "metadata": {},
   "outputs": [],
   "source": [
    "a=5\n",
    "a=+5\n",
    "a=-3"
   ]
  },
  {
   "cell_type": "markdown",
   "metadata": {},
   "source": [
    "c"
   ]
  },
  {
   "cell_type": "code",
   "execution_count": 10,
   "metadata": {},
   "outputs": [
    {
     "data": {
      "text/plain": [
       "True"
      ]
     },
     "execution_count": 10,
     "metadata": {},
     "output_type": "execute_result"
    }
   ],
   "source": [
    "a,b =10,3\n",
    "a>b"
   ]
  },
  {
   "cell_type": "code",
   "execution_count": 11,
   "metadata": {},
   "outputs": [
    {
     "data": {
      "text/plain": [
       "False"
      ]
     },
     "execution_count": 11,
     "metadata": {},
     "output_type": "execute_result"
    }
   ],
   "source": [
    "a<b"
   ]
  },
  {
   "cell_type": "code",
   "execution_count": 15,
   "metadata": {},
   "outputs": [
    {
     "name": "stdout",
     "output_type": "stream",
     "text": [
      "True\n",
      "False\n",
      "False\n"
     ]
    }
   ],
   "source": [
    "print(a>b)\n",
    "print(a<b)\n",
    "print(a==b)\n",
    "print(a==b)\n",
    "print(a=b)\n",
    "print(a==b)"
   ]
  },
  {
   "cell_type": "markdown",
   "metadata": {},
   "source": [
    "logical operation "
   ]
  },
  {
   "cell_type": "code",
   "execution_count": 20,
   "metadata": {},
   "outputs": [
    {
     "name": "stdout",
     "output_type": "stream",
     "text": [
      "False\n",
      "True\n",
      "True\n",
      "True\n"
     ]
    }
   ],
   "source": [
    "X=\"apple\"\n",
    "y=\"mango\"\n",
    "print(X==\"apply\"and X==y)\n",
    "print(X==\"apple\"and X!=y)\n",
    "print(X==\"apple\"or X==y)\n",
    "print(X==\"apple\")"
   ]
  },
  {
   "cell_type": "code",
   "execution_count": 29,
   "metadata": {},
   "outputs": [],
   "source": [
    "fruits=['mango','apple','cherry','bannana']"
   ]
  },
  {
   "cell_type": "code",
   "execution_count": 30,
   "metadata": {},
   "outputs": [
    {
     "data": {
      "text/plain": [
       "True"
      ]
     },
     "execution_count": 30,
     "metadata": {},
     "output_type": "execute_result"
    }
   ],
   "source": [
    "'apple'in fruits"
   ]
  },
  {
   "cell_type": "code",
   "execution_count": 33,
   "metadata": {},
   "outputs": [
    {
     "name": "stdout",
     "output_type": "stream",
     "text": [
      "principal 10000\n",
      "rate 10.0\n",
      "time 1\n",
      "simple intrest 1000.0\n",
      "amount 11000.0\n"
     ]
    }
   ],
   "source": [
    "p=int(input('principal: '))\n",
    "r=float(input('rate:'))\n",
    "t=int(input('rate:'))\n",
    "SI=p*r*t/100\n",
    "print('principal',p)\n",
    "print('rate',r)\n",
    "print('time',t)\n",
    "print('simple intrest',SI)\n",
    "print('amount',p+SI)"
   ]
  },
  {
   "cell_type": "code",
   "execution_count": 35,
   "metadata": {},
   "outputs": [
    {
     "name": "stdout",
     "output_type": "stream",
     "text": [
      "Yourfavourite city lko\n"
     ]
    }
   ],
   "source": [
    "fav_city=input('Favourite city:')\n",
    "print('Yourfavourite city',fav_city)"
   ]
  },
  {
   "cell_type": "code",
   "execution_count": 2,
   "metadata": {},
   "outputs": [
    {
     "name": "stdout",
     "output_type": "stream",
     "text": [
      "rahul lko\n",
      "lko\n",
      "rahul lko\n"
     ]
    }
   ],
   "source": [
    "Name='rahul'\n",
    "city='lko'\n",
    "print(Name,city)\n",
    "print (city)\n",
    "print(Name,city)"
   ]
  },
  {
   "cell_type": "markdown",
   "metadata": {},
   "source": [
    "if\n",
    "if else\n",
    "if elif else\n",
    "match case"
   ]
  },
  {
   "cell_type": "code",
   "execution_count": 12,
   "metadata": {},
   "outputs": [
    {
     "name": "stdout",
     "output_type": "stream",
     "text": [
      "you purchased items for more than $200\n",
      "you get 10% discount\n",
      "total 1800.0\n"
     ]
    }
   ],
   "source": [
    "qty=10\n",
    "price=200\n",
    "total= qty*price\n",
    "if total>200:\n",
    "    print('you purchased items for more than $200')\n",
    "    print('you get 10% discount')\n",
    "    total= total*0.9 # 90% of the total\n",
    "print('total',total)\n"
   ]
  },
  {
   "cell_type": "code",
   "execution_count": 14,
   "metadata": {},
   "outputs": [
    {
     "name": "stdout",
     "output_type": "stream",
     "text": [
      "odd num3\n"
     ]
    }
   ],
   "source": [
    "number=int(input('entera number:'))\n",
    "if number%2==0:\n",
    "    print(f'evennum{number}')\n",
    "else:\n",
    "    print(f'odd num{number}')"
   ]
  },
  {
   "cell_type": "code",
   "execution_count": 34,
   "metadata": {},
   "outputs": [
    {
     "name": "stdout",
     "output_type": "stream",
     "text": [
      "percentage78.0%\n",
      "😃Grade B\n"
     ]
    }
   ],
   "source": [
    "mark= int(input('enter total marks you got:'))\n",
    "total=100\n",
    "pct= mark/total*100\n",
    "print(f'percentage{pct}%')\n",
    "if pct>=90:\n",
    "    print('😂Grade A+')\n",
    "elif pct>=80:\n",
    "    print('😀grade A')\n",
    "elif pct>=70:\n",
    "    print('😃Grade B')\n",
    "elif pct>=60:\n",
    "    print('😀Garde C')\n",
    "elif pct>=50:\n",
    "    print('Grade D😓😒🤤')\n",
    "else:\n",
    "    print('fail')"
   ]
  },
  {
   "cell_type": "code",
   "execution_count": 26,
   "metadata": {},
   "outputs": [
    {
     "name": "stdout",
     "output_type": "stream",
     "text": [
      "What is the capital of uttrakhand\n",
      "A.Dehradun\n",
      "B.lucknow\n",
      "C.Delhi\n",
      "D.Chandigarh\n",
      "wrong ans,India me aha karo\n"
     ]
    }
   ],
   "source": [
    "print('What is the capital of uttrakhand')\n",
    "print('A.Dehradun')\n",
    "print('B.lucknow')\n",
    "print('C.Delhi')\n",
    "print('D.Chandigarh')\n",
    "ans= input('entre option')\n",
    "match ans:\n",
    "    case 'A':\n",
    "        print('correct . you win')\n",
    "    case 'B':\n",
    "        print('Wrong ans up ka ha')\n",
    "    case 'C':\n",
    "        print('wrong ans,India me raha karo')\n",
    "    case 'D':\n",
    "        print('worong ans')\n"
   ]
  },
  {
   "cell_type": "code",
   "execution_count": null,
   "metadata": {},
   "outputs": [],
   "source": []
  }
 ],
 "metadata": {
  "kernelspec": {
   "display_name": "base",
   "language": "python",
   "name": "python3"
  },
  "language_info": {
   "codemirror_mode": {
    "name": "ipython",
    "version": 3
   },
   "file_extension": ".py",
   "mimetype": "text/x-python",
   "name": "python",
   "nbconvert_exporter": "python",
   "pygments_lexer": "ipython3",
   "version": "3.10.9"
  }
 },
 "nbformat": 4,
 "nbformat_minor": 2
}
