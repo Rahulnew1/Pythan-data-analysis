{
 "cells": [
  {
   "cell_type": "markdown",
   "metadata": {},
   "source": [
    "String\n",
    "create\n",
    "slicing\n",
    "most useful method\n",
    "strings is immutable\n",
    "strings is iterable \n",
    "strings is indexed"
   ]
  },
  {
   "cell_type": "code",
   "execution_count": 2,
   "metadata": {},
   "outputs": [],
   "source": [
    "a= 'apple' #single quoate \n",
    "b= \"apple juice\" # \n",
    "c= '''this\n",
    " is an examle'''"
   ]
  },
  {
   "cell_type": "code",
   "execution_count": 6,
   "metadata": {},
   "outputs": [
    {
     "name": "stdout",
     "output_type": "stream",
     "text": [
      "a\n",
      "p\n",
      "e\n"
     ]
    }
   ],
   "source": [
    "print(a[0])\n",
    "print(a[1])\n",
    "print(a[-1])"
   ]
  },
  {
   "cell_type": "markdown",
   "metadata": {},
   "source": [
    "slicing\n",
    "'str[start:stop:step]'\n"
   ]
  },
  {
   "cell_type": "code",
   "execution_count": 9,
   "metadata": {},
   "outputs": [
    {
     "name": "stdout",
     "output_type": "stream",
     "text": [
      "vijay\n"
     ]
    }
   ],
   "source": [
    "name= \"vijay deenanath chauhan\"\n",
    "print(name[0:5])"
   ]
  },
  {
   "cell_type": "code",
   "execution_count": 21,
   "metadata": {},
   "outputs": [
    {
     "name": "stdout",
     "output_type": "stream",
     "text": [
      "deenanath\n",
      "chauhan\n",
      "vijay\n",
      "chauhan\n",
      "vijay deenanath chauhan\n",
      "vjydeaah\n",
      "vjydeaahcahn\n",
      "nahuahc htananeed yajiv\n",
      "nahua\n"
     ]
    }
   ],
   "source": [
    "print(name[6:15])\n",
    "print(name[-7:23])\n",
    "print(name[:5])\n",
    "print(name[-7:])\n",
    "print(name[:])\n",
    "print(name[:15:2])\n",
    "print(name[::2])\n",
    "print(name[::-1])\n",
    "print(name[:][::-1][:5])"
   ]
  },
  {
   "cell_type": "code",
   "execution_count": 24,
   "metadata": {},
   "outputs": [
    {
     "data": {
      "text/plain": [
       "'bruce wayne'"
      ]
     },
     "execution_count": 24,
     "metadata": {},
     "output_type": "execute_result"
    }
   ],
   "source": [
    "fname= \"bruce\"\n",
    "lname= \"wayne\"\n",
    "fname+lname \n"
   ]
  },
  {
   "cell_type": "code",
   "execution_count": 25,
   "metadata": {},
   "outputs": [
    {
     "data": {
      "text/plain": [
       "'bruce wayne'"
      ]
     },
     "execution_count": 25,
     "metadata": {},
     "output_type": "execute_result"
    }
   ],
   "source": [
    "fname +' '+lname"
   ]
  },
  {
   "cell_type": "code",
   "execution_count": 26,
   "metadata": {},
   "outputs": [
    {
     "data": {
      "text/plain": [
       "'💯💯💯💯💯💯💯💯💯💯'"
      ]
     },
     "execution_count": 26,
     "metadata": {},
     "output_type": "execute_result"
    }
   ],
   "source": [
    "'💯'*10"
   ]
  },
  {
   "cell_type": "markdown",
   "metadata": {},
   "source": [
    "strind method"
   ]
  },
  {
   "cell_type": "code",
   "execution_count": 27,
   "metadata": {},
   "outputs": [
    {
     "data": {
      "text/plain": [
       "'Apple'"
      ]
     },
     "execution_count": 27,
     "metadata": {},
     "output_type": "execute_result"
    }
   ],
   "source": [
    "a.capitalize()"
   ]
  },
  {
   "cell_type": "code",
   "execution_count": null,
   "metadata": {},
   "outputs": [],
   "source": []
  },
  {
   "cell_type": "markdown",
   "metadata": {},
   "source": [
    "find and replace    "
   ]
  },
  {
   "cell_type": "code",
   "execution_count": 43,
   "metadata": {},
   "outputs": [
    {
     "name": "stdout",
     "output_type": "stream",
     "text": [
      "4\n",
      "-1\n",
      "5\n",
      "12\n",
      "the queen went to the jungle\n",
      "the queen went to the castle\n"
     ]
    }
   ],
   "source": [
    "sentance= 'the king went to the jungle'\n",
    "print(sentance.find('king'))\n",
    "print(sentance.find('queen'))# -1 if not found\n",
    "print (sentance.find('in'))\n",
    "print(sentance.find('t t'))\n",
    "\n",
    "\n",
    "print(sentance.replace('king','queen'))\n",
    "sentance2=sentance.replace('king','queen').replace('jungle','castle')\n",
    "print(sentance2)"
   ]
  },
  {
   "cell_type": "code",
   "execution_count": 45,
   "metadata": {},
   "outputs": [
    {
     "data": {
      "text/plain": [
       "['the', 'king', 'went', 'to', 'the', 'jungle']"
      ]
     },
     "execution_count": 45,
     "metadata": {},
     "output_type": "execute_result"
    }
   ],
   "source": [
    "sentance.split()"
   ]
  },
  {
   "cell_type": "code",
   "execution_count": 49,
   "metadata": {},
   "outputs": [
    {
     "name": "stdout",
     "output_type": "stream",
     "text": [
      "['twinkle, twinkle, little star', 'how i wondor what you are!', 'upabove the world so high', 'Like a diamond inthe sky']\n",
      "['twinkle,', 'twinkle,', 'little', 'star', 'how', 'i', 'wondor', 'what', 'you', 'are!', 'upabove', 'the', 'world', 'so', 'high', 'Like', 'a', 'diamond', 'inthe', 'sky']\n",
      "['twinkle', ' twinkle', ' little star\\nhow i wondor what you are!\\nupabove the world so high\\nLike a diamond inthe sky']\n"
     ]
    }
   ],
   "source": [
    "poem='''twinkle, twinkle, little star\n",
    "how i wondor what you are!\n",
    "upabove the world so high\n",
    "Like a diamond inthe sky'''\n",
    "\n",
    "print(poem.splitlines()) # better tha split('\\n)\n",
    "print(poem.split())\n",
    "print(poem.split(','))"
   ]
  },
  {
   "cell_type": "code",
   "execution_count": 57,
   "metadata": {},
   "outputs": [
    {
     "name": "stdout",
     "output_type": "stream",
     "text": [
      "c: home user document file text\n",
      "c:/home/user/document/file/text\n",
      "c:😂home😂user😂document😂file😂text\n"
     ]
    }
   ],
   "source": [
    "path=['c:','home','user','document','file','text']\n",
    "print(\" \".join(path))\n",
    "print(\"/\".join(path))\n",
    "print(\"😂\".join(path))"
   ]
  },
  {
   "cell_type": "code",
   "execution_count": null,
   "metadata": {},
   "outputs": [],
   "source": []
  }
 ],
 "metadata": {
  "kernelspec": {
   "display_name": "base",
   "language": "python",
   "name": "python3"
  },
  "language_info": {
   "codemirror_mode": {
    "name": "ipython",
    "version": 3
   },
   "file_extension": ".py",
   "mimetype": "text/x-python",
   "name": "python",
   "nbconvert_exporter": "python",
   "pygments_lexer": "ipython3",
   "version": "3.10.9"
  }
 },
 "nbformat": 4,
 "nbformat_minor": 2
}
