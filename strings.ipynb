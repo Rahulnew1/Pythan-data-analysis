{
 "cells": [
  {
   "cell_type": "markdown",
   "metadata": {},
   "source": [
    "String\n",
    "create\n",
    "slicing\n",
    "most useful method\n",
    "strings is immutable\n",
    "strings is iterable \n",
    "strings is indexed"
   ]
  },
  {
   "cell_type": "code",
   "execution_count": 2,
   "metadata": {},
   "outputs": [],
   "source": [
    "a= 'apple' #single quoate \n",
    "b= \"apple juice\" # \n",
    "c= '''this\n",
    " is an examle'''"
   ]
  },
  {
   "cell_type": "code",
   "execution_count": 6,
   "metadata": {},
   "outputs": [
    {
     "name": "stdout",
     "output_type": "stream",
     "text": [
      "a\n",
      "p\n",
      "e\n"
     ]
    }
   ],
   "source": [
    "print(a[0])\n",
    "print(a[1])\n",
    "print(a[-1])"
   ]
  },
  {
   "cell_type": "markdown",
   "metadata": {},
   "source": [
    "slicing\n",
    "'str[start:stop:step]'\n"
   ]
  },
  {
   "cell_type": "code",
   "execution_count": 9,
   "metadata": {},
   "outputs": [
    {
     "name": "stdout",
     "output_type": "stream",
     "text": [
      "vijay\n"
     ]
    }
   ],
   "source": [
    "name= \"vijay deenanath chauhan\"\n",
    "print(name[0:5])"
   ]
  },
  {
   "cell_type": "code",
   "execution_count": 21,
   "metadata": {},
   "outputs": [
    {
     "name": "stdout",
     "output_type": "stream",
     "text": [
      "deenanath\n",
      "chauhan\n",
      "vijay\n",
      "chauhan\n",
      "vijay deenanath chauhan\n",
      "vjydeaah\n",
      "vjydeaahcahn\n",
      "nahuahc htananeed yajiv\n",
      "nahua\n"
     ]
    }
   ],
   "source": [
    "print(name[6:15])\n",
    "print(name[-7:23])\n",
    "print(name[:5])\n",
    "print(name[-7:])\n",
    "print(name[:])\n",
    "print(name[:15:2])\n",
    "print(name[::2])\n",
    "print(name[::-1])\n",
    "print(name[:][::-1][:5])"
   ]
  },
  {
   "cell_type": "code",
   "execution_count": 24,
   "metadata": {},
   "outputs": [
    {
     "data": {
      "text/plain": [
       "'bruce wayne'"
      ]
     },
     "execution_count": 24,
     "metadata": {},
     "output_type": "execute_result"
    }
   ],
   "source": [
    "fname= \"bruce\"\n",
    "lname= \"wayne\"\n",
    "fname+lname \n"
   ]
  },
  {
   "cell_type": "code",
   "execution_count": 25,
   "metadata": {},
   "outputs": [
    {
     "data": {
      "text/plain": [
       "'bruce wayne'"
      ]
     },
     "execution_count": 25,
     "metadata": {},
     "output_type": "execute_result"
    }
   ],
   "source": [
    "fname +' '+lname"
   ]
  },
  {
   "cell_type": "code",
   "execution_count": 26,
   "metadata": {},
   "outputs": [
    {
     "data": {
      "text/plain": [
       "'💯💯💯💯💯💯💯💯💯💯'"
      ]
     },
     "execution_count": 26,
     "metadata": {},
     "output_type": "execute_result"
    }
   ],
   "source": [
    "'💯'*10"
   ]
  },
  {
   "cell_type": "markdown",
   "metadata": {},
   "source": [
    "strind method"
   ]
  },
  {
   "cell_type": "code",
   "execution_count": 27,
   "metadata": {},
   "outputs": [
    {
     "data": {
      "text/plain": [
       "'Apple'"
      ]
     },
     "execution_count": 27,
     "metadata": {},
     "output_type": "execute_result"
    }
   ],
   "source": [
    "a.capitalize()"
   ]
  },
  {
   "cell_type": "code",
   "execution_count": null,
   "metadata": {},
   "outputs": [],
   "source": []
  },
  {
   "cell_type": "markdown",
   "metadata": {},
   "source": [
    "find and replace    "
   ]
  },
  {
   "cell_type": "code",
   "execution_count": 43,
   "metadata": {},
   "outputs": [
    {
     "name": "stdout",
     "output_type": "stream",
     "text": [
      "4\n",
      "-1\n",
      "5\n",
      "12\n",
      "the queen went to the jungle\n",
      "the queen went to the castle\n"
     ]
    }
   ],
   "source": [
    "sentance= 'the king went to the jungle'\n",
    "print(sentance.find('king'))\n",
    "print(sentance.find('queen'))# -1 if not found\n",
    "print (sentance.find('in'))\n",
    "print(sentance.find('t t'))\n",
    "\n",
    "\n",
    "print(sentance.replace('king','queen'))\n",
    "sentance2=sentance.replace('king','queen').replace('jungle','castle')\n",
    "print(sentance2)"
   ]
  },
  {
   "cell_type": "code",
   "execution_count": 45,
   "metadata": {},
   "outputs": [
    {
     "data": {
      "text/plain": [
       "['the', 'king', 'went', 'to', 'the', 'jungle']"
      ]
     },
     "execution_count": 45,
     "metadata": {},
     "output_type": "execute_result"
    }
   ],
   "source": [
    "sentance.split()"
   ]
  },
  {
   "cell_type": "code",
   "execution_count": 49,
   "metadata": {},
   "outputs": [
    {
     "name": "stdout",
     "output_type": "stream",
     "text": [
      "['twinkle, twinkle, little star', 'how i wondor what you are!', 'upabove the world so high', 'Like a diamond inthe sky']\n",
      "['twinkle,', 'twinkle,', 'little', 'star', 'how', 'i', 'wondor', 'what', 'you', 'are!', 'upabove', 'the', 'world', 'so', 'high', 'Like', 'a', 'diamond', 'inthe', 'sky']\n",
      "['twinkle', ' twinkle', ' little star\\nhow i wondor what you are!\\nupabove the world so high\\nLike a diamond inthe sky']\n"
     ]
    }
   ],
   "source": [
    "poem='''twinkle, twinkle, little star\n",
    "how i wondor what you are!\n",
    "upabove the world so high\n",
    "Like a diamond inthe sky'''\n",
    "\n",
    "print(poem.splitlines()) # better tha split('\\n)\n",
    "print(poem.split())\n",
    "print(poem.split(','))"
   ]
  },
  {
   "cell_type": "code",
   "execution_count": 57,
   "metadata": {},
   "outputs": [
    {
     "name": "stdout",
     "output_type": "stream",
     "text": [
      "c: home user document file text\n",
      "c:/home/user/document/file/text\n",
      "c:😂home😂user😂document😂file😂text\n"
     ]
    }
   ],
   "source": [
    "path=['c:','home','user','document','file','text']\n",
    "print(\" \".join(path))\n",
    "print(\"/\".join(path))\n",
    "print(\"😂\".join(path))"
   ]
  },
  {
   "cell_type": "markdown",
   "metadata": {},
   "source": [
    "count ,startwith and endwith    "
   ]
  },
  {
   "cell_type": "code",
   "execution_count": 1,
   "metadata": {},
   "outputs": [
    {
     "data": {
      "text/plain": [
       "3"
      ]
     },
     "execution_count": 1,
     "metadata": {},
     "output_type": "execute_result"
    }
   ],
   "source": [
    "story= 'once there was a king .he was vrey powerful. he had a beautiful queen'\n",
    "\n",
    "story.count('he')"
   ]
  },
  {
   "cell_type": "code",
   "execution_count": 7,
   "metadata": {},
   "outputs": [
    {
     "name": "stdout",
     "output_type": "stream",
     "text": [
      "['10000 Records.xlsx', 'Ad 1.png', 'Ad 2.png', 'archive.zip', 'aryans logo.png', 'azuredatastudio-windows-user-setup-1.46.0.exe', 'BTC_1Y_graph_coinmarketcap.csv', 'Canada.xlsx', 'ChromeSetup (1).exe', 'ChromeSetup.exe', 'Data Science Salary 2021 to 2023.csv', 'desktop.ini', 'DP-2023-JAN-MERN-03-30-MTWF-master', 'DP-2023-JAN-MERN-03-30-MTWF-master.zip', 'DroidCam.Setup.6.5.2.exe', 'employee_data (1).xlsx', 'employee_data.xlsx', 'Excel Basics-1.pptx', 'Gesture-Controlled-Snake-Game-master', 'Git-2.39.1-64-bit.exe', 'Git-2.41.0-64-bit.exe', 'GitHubDesktopSetup-x64.exe', 'healthy food delivery.webp', 'house_prices.xlsx', 'images.jpg', 'jdk-20_windows-x64_bin.exe', 'liss-sh-1-1000x1000.jpg', 'Miniconda3-latest-Windows-x86_64.exe', 'mysql-8.1.0-winx64-debug-test.zip', 'mysql-8.1.0-winx64.msi', 'mysql-8.1.0-winx64.zip', 'mysql-installer-web-community-8.0.32.0.msi', 'node-v18.13.0-x64.msi', 'Postman-win64-Setup (1).exe', 'Postman-win64-Setup (2).exe', 'Postman-win64-Setup.exe', 'quiz', 'quiz (1).ipynb', 'quiz.ipynb', 'S1.jpg', 'S10.webp', 'S11.jpg', 'S12.jpg', 'S13.jpg', 'S2.webp', 'S3.jpg', 'S4.html', 'S4_files', 'S5.jpg', 'S6.webp', 'S7.jpg', 'S8.jpg', 'S9.jpeg', 'Sparse Arrays _ CODING CLASH Question _ Contests _ HackerRank.html', 'Sparse Arrays _ CODING CLASH Question _ Contests _ HackerRank_files', 'Unconfirmed 148919.crdownload', 'Unconfirmed 161282.crdownload', 'Unconfirmed 199896.crdownload', 'Unconfirmed 460897.crdownload', 'VC_redist.arm64.exe', 'VC_redist.x64.exe', 'VirtualSteering-main', 'VSCodeUserSetup-x64-1.74.3.exe', 'winrar-x64-621.exe', 'www.adidas.com (1).zip', 'www.adidas.com.pdf', 'www.adidas.com.zip', 'y2mate.com - Adidas UltraBOOST Running Commercial_1080p.mp4', 'y2mate.com - Designed to trim not to cut_1080p.mp4', 'y2mate.com - Take the Deal  Dare To Create_1080p.mp4']\n"
     ]
    }
   ],
   "source": [
    "import os\n",
    "\n",
    "content=os.listdir('C:/users/win-10/Downloads')\n",
    "print(content)"
   ]
  },
  {
   "cell_type": "code",
   "execution_count": 14,
   "metadata": {},
   "outputs": [
    {
     "name": "stdout",
     "output_type": "stream",
     "text": [
      "azuredatastudio-windows-user-setup-1.46.0.exe\n",
      "ChromeSetup (1).exe\n",
      "ChromeSetup.exe\n",
      "DroidCam.Setup.6.5.2.exe\n",
      "Git-2.39.1-64-bit.exe\n",
      "Git-2.41.0-64-bit.exe\n",
      "GitHubDesktopSetup-x64.exe\n",
      "jdk-20_windows-x64_bin.exe\n",
      "Miniconda3-latest-Windows-x86_64.exe\n",
      "Postman-win64-Setup (1).exe\n",
      "Postman-win64-Setup (2).exe\n",
      "Postman-win64-Setup.exe\n",
      "VC_redist.arm64.exe\n",
      "VC_redist.x64.exe\n",
      "VSCodeUserSetup-x64-1.74.3.exe\n",
      "winrar-x64-621.exe\n"
     ]
    }
   ],
   "source": [
    "for item in content:\n",
    "    if item.endswith('.exe'):\n",
    "        print(item)"
   ]
  },
  {
   "cell_type": "code",
   "execution_count": 15,
   "metadata": {},
   "outputs": [
    {
     "name": "stdout",
     "output_type": "stream",
     "text": [
      "employee_data (1).xlsx\n",
      "employee_data.xlsx\n"
     ]
    }
   ],
   "source": [
    "for item in content:\n",
    "    if item.startswith('e'):\n",
    "        print(item)"
   ]
  },
  {
   "cell_type": "code",
   "execution_count": 23,
   "metadata": {},
   "outputs": [
    {
     "name": "stdout",
     "output_type": "stream",
     "text": [
      "True\n"
     ]
    }
   ],
   "source": [
    "word ='excellent'\n",
    "print(word.startswith('ex'))\n"
   ]
  },
  {
   "cell_type": "code",
   "execution_count": null,
   "metadata": {},
   "outputs": [],
   "source": []
  }
 ],
 "metadata": {
  "kernelspec": {
   "display_name": "base",
   "language": "python",
   "name": "python3"
  },
  "language_info": {
   "codemirror_mode": {
    "name": "ipython",
    "version": 3
   },
   "file_extension": ".py",
   "mimetype": "text/x-python",
   "name": "python",
   "nbconvert_exporter": "python",
   "pygments_lexer": "ipython3",
   "version": "3.10.9"
  }
 },
 "nbformat": 4,
 "nbformat_minor": 2
}
